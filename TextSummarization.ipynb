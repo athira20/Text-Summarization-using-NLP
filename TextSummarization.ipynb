{
  "nbformat": 4,
  "nbformat_minor": 0,
  "metadata": {
    "colab": {
      "name": "TextSummarization.ipynb",
      "provenance": [],
      "authorship_tag": "ABX9TyPsIwNpOEOsFZZtfa4I9IeK",
      "include_colab_link": true
    },
    "kernelspec": {
      "name": "python3",
      "display_name": "Python 3"
    },
    "language_info": {
      "name": "python"
    }
  },
  "cells": [
    {
      "cell_type": "markdown",
      "metadata": {
        "id": "view-in-github",
        "colab_type": "text"
      },
      "source": [
        "<a href=\"https://colab.research.google.com/github/athira20/Text-Summarization-using-NLP/blob/main/TextSummarization.ipynb\" target=\"_parent\"><img src=\"https://colab.research.google.com/assets/colab-badge.svg\" alt=\"Open In Colab\"/></a>"
      ]
    },
    {
      "cell_type": "code",
      "source": [
        "from nltk.corpus import stopwords\n",
        "from nltk.tokenize import word_tokenize, sent_tokenize"
      ],
      "metadata": {
        "id": "YG2tOiTQGfhe"
      },
      "execution_count": 1,
      "outputs": []
    },
    {
      "cell_type": "code",
      "source": [
        "import nltk\n",
        "nltk.download('stopwords')"
      ],
      "metadata": {
        "colab": {
          "base_uri": "https://localhost:8080/"
        },
        "id": "xdGa-KvyGluv",
        "outputId": "1a4e46b3-47d7-46f8-e6ba-7021bc44c045"
      },
      "execution_count": 2,
      "outputs": [
        {
          "output_type": "stream",
          "name": "stderr",
          "text": [
            "[nltk_data] Downloading package stopwords to /root/nltk_data...\n",
            "[nltk_data]   Unzipping corpora/stopwords.zip.\n"
          ]
        },
        {
          "output_type": "execute_result",
          "data": {
            "text/plain": [
              "True"
            ]
          },
          "metadata": {},
          "execution_count": 2
        }
      ]
    },
    {
      "cell_type": "code",
      "source": [
        "stopword = list(stopwords.words('english'))"
      ],
      "metadata": {
        "id": "_-f5GHs6Gtb-"
      },
      "execution_count": 3,
      "outputs": []
    },
    {
      "cell_type": "code",
      "source": [
        "stopword"
      ],
      "metadata": {
        "colab": {
          "base_uri": "https://localhost:8080/"
        },
        "id": "G5W3A53eGxLQ",
        "outputId": "7bab030b-e490-4764-b06d-f8dfafdb175b"
      },
      "execution_count": 4,
      "outputs": [
        {
          "output_type": "execute_result",
          "data": {
            "text/plain": [
              "['i',\n",
              " 'me',\n",
              " 'my',\n",
              " 'myself',\n",
              " 'we',\n",
              " 'our',\n",
              " 'ours',\n",
              " 'ourselves',\n",
              " 'you',\n",
              " \"you're\",\n",
              " \"you've\",\n",
              " \"you'll\",\n",
              " \"you'd\",\n",
              " 'your',\n",
              " 'yours',\n",
              " 'yourself',\n",
              " 'yourselves',\n",
              " 'he',\n",
              " 'him',\n",
              " 'his',\n",
              " 'himself',\n",
              " 'she',\n",
              " \"she's\",\n",
              " 'her',\n",
              " 'hers',\n",
              " 'herself',\n",
              " 'it',\n",
              " \"it's\",\n",
              " 'its',\n",
              " 'itself',\n",
              " 'they',\n",
              " 'them',\n",
              " 'their',\n",
              " 'theirs',\n",
              " 'themselves',\n",
              " 'what',\n",
              " 'which',\n",
              " 'who',\n",
              " 'whom',\n",
              " 'this',\n",
              " 'that',\n",
              " \"that'll\",\n",
              " 'these',\n",
              " 'those',\n",
              " 'am',\n",
              " 'is',\n",
              " 'are',\n",
              " 'was',\n",
              " 'were',\n",
              " 'be',\n",
              " 'been',\n",
              " 'being',\n",
              " 'have',\n",
              " 'has',\n",
              " 'had',\n",
              " 'having',\n",
              " 'do',\n",
              " 'does',\n",
              " 'did',\n",
              " 'doing',\n",
              " 'a',\n",
              " 'an',\n",
              " 'the',\n",
              " 'and',\n",
              " 'but',\n",
              " 'if',\n",
              " 'or',\n",
              " 'because',\n",
              " 'as',\n",
              " 'until',\n",
              " 'while',\n",
              " 'of',\n",
              " 'at',\n",
              " 'by',\n",
              " 'for',\n",
              " 'with',\n",
              " 'about',\n",
              " 'against',\n",
              " 'between',\n",
              " 'into',\n",
              " 'through',\n",
              " 'during',\n",
              " 'before',\n",
              " 'after',\n",
              " 'above',\n",
              " 'below',\n",
              " 'to',\n",
              " 'from',\n",
              " 'up',\n",
              " 'down',\n",
              " 'in',\n",
              " 'out',\n",
              " 'on',\n",
              " 'off',\n",
              " 'over',\n",
              " 'under',\n",
              " 'again',\n",
              " 'further',\n",
              " 'then',\n",
              " 'once',\n",
              " 'here',\n",
              " 'there',\n",
              " 'when',\n",
              " 'where',\n",
              " 'why',\n",
              " 'how',\n",
              " 'all',\n",
              " 'any',\n",
              " 'both',\n",
              " 'each',\n",
              " 'few',\n",
              " 'more',\n",
              " 'most',\n",
              " 'other',\n",
              " 'some',\n",
              " 'such',\n",
              " 'no',\n",
              " 'nor',\n",
              " 'not',\n",
              " 'only',\n",
              " 'own',\n",
              " 'same',\n",
              " 'so',\n",
              " 'than',\n",
              " 'too',\n",
              " 'very',\n",
              " 's',\n",
              " 't',\n",
              " 'can',\n",
              " 'will',\n",
              " 'just',\n",
              " 'don',\n",
              " \"don't\",\n",
              " 'should',\n",
              " \"should've\",\n",
              " 'now',\n",
              " 'd',\n",
              " 'll',\n",
              " 'm',\n",
              " 'o',\n",
              " 're',\n",
              " 've',\n",
              " 'y',\n",
              " 'ain',\n",
              " 'aren',\n",
              " \"aren't\",\n",
              " 'couldn',\n",
              " \"couldn't\",\n",
              " 'didn',\n",
              " \"didn't\",\n",
              " 'doesn',\n",
              " \"doesn't\",\n",
              " 'hadn',\n",
              " \"hadn't\",\n",
              " 'hasn',\n",
              " \"hasn't\",\n",
              " 'haven',\n",
              " \"haven't\",\n",
              " 'isn',\n",
              " \"isn't\",\n",
              " 'ma',\n",
              " 'mightn',\n",
              " \"mightn't\",\n",
              " 'mustn',\n",
              " \"mustn't\",\n",
              " 'needn',\n",
              " \"needn't\",\n",
              " 'shan',\n",
              " \"shan't\",\n",
              " 'shouldn',\n",
              " \"shouldn't\",\n",
              " 'wasn',\n",
              " \"wasn't\",\n",
              " 'weren',\n",
              " \"weren't\",\n",
              " 'won',\n",
              " \"won't\",\n",
              " 'wouldn',\n",
              " \"wouldn't\"]"
            ]
          },
          "metadata": {},
          "execution_count": 4
        }
      ]
    },
    {
      "cell_type": "code",
      "source": [
        "text = '''As someone who grew up seeing the 1st and 2nd Tobey Spider-Man films in theaters as a fairly young kid and knowing even at that age what great films they were let alone great super hero movie, which obviously that landscape was very different back then compared to today, but to be able to see how they constructed this somewhat origin story for Tom Holland from all the way from Civil War to No Way Home and to throw in so many great moments along the way for people like me and others and to make so many amazing moments just work flawlessly especially the fan service moments. They were able to sneak in a surprising amount of explanations and maybe things that happened after certain stories ended or behind the scenes and for it to not fill contrived or shoehorned in there is just an accomplishment in of itself. Movies don't typically make those moments work and they tend to be weaker parts of the film which is why fanservice can be bad as well as good but in my opinion this is how you execute fanservice perfectly. It's hard for me sometimes to pick the perfect words especially when a movie does so many things right and I have very little to if nothing bad to say about it, which four people reading I definitely don't think I would ever call any movie 100% perfect but I'm not a movie critic so if I just flat-out love a movie it's usually hard for me to think back and pick out moment I didn't necessarily like or that I would change, especially when I'm loving so much of what I'm seeing. I personally think this is hands-down the best Spider-Man movie and without trying to seem like I'm biasly reviewing this movie too much I may even look back later and say it's the best superhero movie. It just works in all areas and isn't restrained as solely a superhero movie but they bring so much emotion and character and plot development for multiple people, which again can be very hard to execute, that I just consider this an absolutely amazing movie and I would forever look back on the three MCU Spider-Man movies as a perfect origin story for Tom Hollands Peter Parker and be so very pleased with what we got. It's just such a strong film it can stand on its own and isn't bunched into a great Marvel movie or great superhero movie or even great Spider-Man movie but just a absolutely fantastic movie overall. If anybody out there is on the fence about seeing it I would highly highly recommend not waiting for it to come out on Blu-ray or streaming and go support your local theater because this is definitely a movie will be enjoyed more with a group of people and as a fan base together. Even if your theater is empty just the big screen and everything you get with a theater experience makes something that's great even better. If I had to say one thing I would say that maybe people who haven't seen the other Spider-Man movies or even people who aren't familiar with the Tobey Maguire movies probably won't like this movie as much as the people who have followed all three Spider-Man's stories up to this point because a lot of the magic that made me fall in love with this movie is definitely and the Nostalgia and being able to see not only the Spider-Man's but these villains back on the big screen killing it like they do'''"
      ],
      "metadata": {
        "id": "_zrTbt-NG1im"
      },
      "execution_count": 5,
      "outputs": []
    },
    {
      "cell_type": "code",
      "source": [
        "text"
      ],
      "metadata": {
        "colab": {
          "base_uri": "https://localhost:8080/",
          "height": 123
        },
        "id": "w57OUA2oHHt2",
        "outputId": "2dc5f51d-9069-480a-993f-3bbea8b77bb7"
      },
      "execution_count": 6,
      "outputs": [
        {
          "output_type": "execute_result",
          "data": {
            "text/plain": [
              "\"As someone who grew up seeing the 1st and 2nd Tobey Spider-Man films in theaters as a fairly young kid and knowing even at that age what great films they were let alone great super hero movie, which obviously that landscape was very different back then compared to today, but to be able to see how they constructed this somewhat origin story for Tom Holland from all the way from Civil War to No Way Home and to throw in so many great moments along the way for people like me and others and to make so many amazing moments just work flawlessly especially the fan service moments. They were able to sneak in a surprising amount of explanations and maybe things that happened after certain stories ended or behind the scenes and for it to not fill contrived or shoehorned in there is just an accomplishment in of itself. Movies don't typically make those moments work and they tend to be weaker parts of the film which is why fanservice can be bad as well as good but in my opinion this is how you execute fanservice perfectly. It's hard for me sometimes to pick the perfect words especially when a movie does so many things right and I have very little to if nothing bad to say about it, which four people reading I definitely don't think I would ever call any movie 100% perfect but I'm not a movie critic so if I just flat-out love a movie it's usually hard for me to think back and pick out moment I didn't necessarily like or that I would change, especially when I'm loving so much of what I'm seeing. I personally think this is hands-down the best Spider-Man movie and without trying to seem like I'm biasly reviewing this movie too much I may even look back later and say it's the best superhero movie. It just works in all areas and isn't restrained as solely a superhero movie but they bring so much emotion and character and plot development for multiple people, which again can be very hard to execute, that I just consider this an absolutely amazing movie and I would forever look back on the three MCU Spider-Man movies as a perfect origin story for Tom Hollands Peter Parker and be so very pleased with what we got. It's just such a strong film it can stand on its own and isn't bunched into a great Marvel movie or great superhero movie or even great Spider-Man movie but just a absolutely fantastic movie overall. If anybody out there is on the fence about seeing it I would highly highly recommend not waiting for it to come out on Blu-ray or streaming and go support your local theater because this is definitely a movie will be enjoyed more with a group of people and as a fan base together. Even if your theater is empty just the big screen and everything you get with a theater experience makes something that's great even better. If I had to say one thing I would say that maybe people who haven't seen the other Spider-Man movies or even people who aren't familiar with the Tobey Maguire movies probably won't like this movie as much as the people who have followed all three Spider-Man's stories up to this point because a lot of the magic that made me fall in love with this movie is definitely and the Nostalgia and being able to see not only the Spider-Man's but these villains back on the big screen killing it like they do\""
            ],
            "application/vnd.google.colaboratory.intrinsic+json": {
              "type": "string"
            }
          },
          "metadata": {},
          "execution_count": 6
        }
      ]
    },
    {
      "cell_type": "code",
      "source": [
        "nltk.download('punkt')"
      ],
      "metadata": {
        "colab": {
          "base_uri": "https://localhost:8080/"
        },
        "id": "FG8M3e2tHMGm",
        "outputId": "a75731ca-556a-482c-d2a0-c30fee8ad054"
      },
      "execution_count": 7,
      "outputs": [
        {
          "output_type": "stream",
          "name": "stderr",
          "text": [
            "[nltk_data] Downloading package punkt to /root/nltk_data...\n",
            "[nltk_data]   Unzipping tokenizers/punkt.zip.\n"
          ]
        },
        {
          "output_type": "execute_result",
          "data": {
            "text/plain": [
              "True"
            ]
          },
          "metadata": {},
          "execution_count": 7
        }
      ]
    },
    {
      "cell_type": "code",
      "source": [
        "sentences = sent_tokenize(text)"
      ],
      "metadata": {
        "id": "cRTV57JjHQFX"
      },
      "execution_count": 8,
      "outputs": []
    },
    {
      "cell_type": "code",
      "source": [
        "sentences[0]"
      ],
      "metadata": {
        "colab": {
          "base_uri": "https://localhost:8080/",
          "height": 88
        },
        "id": "lH6wVEplHT62",
        "outputId": "a0abab91-fa25-4e7c-e3b0-63fb10b03199"
      },
      "execution_count": 9,
      "outputs": [
        {
          "output_type": "execute_result",
          "data": {
            "text/plain": [
              "'As someone who grew up seeing the 1st and 2nd Tobey Spider-Man films in theaters as a fairly young kid and knowing even at that age what great films they were let alone great super hero movie, which obviously that landscape was very different back then compared to today, but to be able to see how they constructed this somewhat origin story for Tom Holland from all the way from Civil War to No Way Home and to throw in so many great moments along the way for people like me and others and to make so many amazing moments just work flawlessly especially the fan service moments.'"
            ],
            "application/vnd.google.colaboratory.intrinsic+json": {
              "type": "string"
            }
          },
          "metadata": {},
          "execution_count": 9
        }
      ]
    },
    {
      "cell_type": "code",
      "source": [
        "asd = text.split('.')"
      ],
      "metadata": {
        "id": "5MX8rdcQHVi2"
      },
      "execution_count": 10,
      "outputs": []
    },
    {
      "cell_type": "code",
      "source": [
        "asd[0]"
      ],
      "metadata": {
        "colab": {
          "base_uri": "https://localhost:8080/",
          "height": 88
        },
        "id": "PfzMhoKiMdRs",
        "outputId": "40fc6b45-f291-4426-9f26-e9573998684a"
      },
      "execution_count": 11,
      "outputs": [
        {
          "output_type": "execute_result",
          "data": {
            "text/plain": [
              "'As someone who grew up seeing the 1st and 2nd Tobey Spider-Man films in theaters as a fairly young kid and knowing even at that age what great films they were let alone great super hero movie, which obviously that landscape was very different back then compared to today, but to be able to see how they constructed this somewhat origin story for Tom Holland from all the way from Civil War to No Way Home and to throw in so many great moments along the way for people like me and others and to make so many amazing moments just work flawlessly especially the fan service moments'"
            ],
            "application/vnd.google.colaboratory.intrinsic+json": {
              "type": "string"
            }
          },
          "metadata": {},
          "execution_count": 11
        }
      ]
    },
    {
      "cell_type": "code",
      "source": [
        "word = word_tokenize(text)"
      ],
      "metadata": {
        "id": "5FVg3fMZMjl3"
      },
      "execution_count": 12,
      "outputs": []
    },
    {
      "cell_type": "code",
      "source": [
        "frequency_table = {}\n"
      ],
      "metadata": {
        "id": "N2OauB-FN0xH"
      },
      "execution_count": 17,
      "outputs": []
    },
    {
      "cell_type": "code",
      "source": [
        "punch = '!.,#@$%^&*(){}[]-+=_/?><'"
      ],
      "metadata": {
        "id": "9jAa3xaiOXtW"
      },
      "execution_count": 18,
      "outputs": []
    },
    {
      "cell_type": "code",
      "source": [
        "text = \"Hello, world\""
      ],
      "metadata": {
        "id": "A70y-ZEvPOY3"
      },
      "execution_count": 23,
      "outputs": []
    },
    {
      "cell_type": "code",
      "source": [
        "for i in word:\n",
        "  i = i.lower()\n",
        "  if i in stopword:\n",
        "    continue\n",
        "  if i in frequency_table:\n",
        "    frequency_table[i] += 1\n",
        "  else:\n",
        "    frequency_table[i] = 1"
      ],
      "metadata": {
        "id": "l6UIHE0vP3wv"
      },
      "execution_count": 24,
      "outputs": []
    },
    {
      "cell_type": "code",
      "source": [
        "# Task\n",
        "sorted(frequency_table.values())\n"
      ],
      "metadata": {
        "id": "RxggZtkGP64Y"
      },
      "execution_count": null,
      "outputs": []
    },
    {
      "cell_type": "code",
      "source": [
        "sorted(frequency_table.items(), key=lambda x: x[1], reverse=True)"
      ],
      "metadata": {
        "colab": {
          "base_uri": "https://localhost:8080/"
        },
        "id": "XD3kptj0QEye",
        "outputId": "3a63ac37-a9fd-4f04-eb7a-61835c4bc752"
      },
      "execution_count": 26,
      "outputs": [
        {
          "output_type": "execute_result",
          "data": {
            "text/plain": [
              "[('movie', 17),\n",
              " ('.', 9),\n",
              " (\"n't\", 8),\n",
              " ('spider-man', 7),\n",
              " ('great', 7),\n",
              " ('people', 7),\n",
              " (\"'s\", 7),\n",
              " ('even', 6),\n",
              " (',', 6),\n",
              " ('back', 5),\n",
              " ('like', 5),\n",
              " ('would', 5),\n",
              " ('moments', 4),\n",
              " ('movies', 4),\n",
              " ('say', 4),\n",
              " (\"'m\", 4),\n",
              " ('much', 4),\n",
              " ('seeing', 3),\n",
              " ('able', 3),\n",
              " ('way', 3),\n",
              " ('many', 3),\n",
              " ('especially', 3),\n",
              " ('hard', 3),\n",
              " ('perfect', 3),\n",
              " ('definitely', 3),\n",
              " ('think', 3),\n",
              " ('superhero', 3),\n",
              " ('theater', 3),\n",
              " ('tobey', 2),\n",
              " ('films', 2),\n",
              " ('see', 2),\n",
              " ('origin', 2),\n",
              " ('story', 2),\n",
              " ('tom', 2),\n",
              " ('make', 2),\n",
              " ('amazing', 2),\n",
              " ('work', 2),\n",
              " ('fan', 2),\n",
              " ('maybe', 2),\n",
              " ('things', 2),\n",
              " ('stories', 2),\n",
              " ('film', 2),\n",
              " ('fanservice', 2),\n",
              " ('bad', 2),\n",
              " ('execute', 2),\n",
              " ('pick', 2),\n",
              " ('love', 2),\n",
              " ('best', 2),\n",
              " ('look', 2),\n",
              " ('absolutely', 2),\n",
              " ('three', 2),\n",
              " ('highly', 2),\n",
              " ('big', 2),\n",
              " ('screen', 2),\n",
              " ('someone', 1),\n",
              " ('grew', 1),\n",
              " ('1st', 1),\n",
              " ('2nd', 1),\n",
              " ('theaters', 1),\n",
              " ('fairly', 1),\n",
              " ('young', 1),\n",
              " ('kid', 1),\n",
              " ('knowing', 1),\n",
              " ('age', 1),\n",
              " ('let', 1),\n",
              " ('alone', 1),\n",
              " ('super', 1),\n",
              " ('hero', 1),\n",
              " ('obviously', 1),\n",
              " ('landscape', 1),\n",
              " ('different', 1),\n",
              " ('compared', 1),\n",
              " ('today', 1),\n",
              " ('constructed', 1),\n",
              " ('somewhat', 1),\n",
              " ('holland', 1),\n",
              " ('civil', 1),\n",
              " ('war', 1),\n",
              " ('home', 1),\n",
              " ('throw', 1),\n",
              " ('along', 1),\n",
              " ('others', 1),\n",
              " ('flawlessly', 1),\n",
              " ('service', 1),\n",
              " ('sneak', 1),\n",
              " ('surprising', 1),\n",
              " ('amount', 1),\n",
              " ('explanations', 1),\n",
              " ('happened', 1),\n",
              " ('certain', 1),\n",
              " ('ended', 1),\n",
              " ('behind', 1),\n",
              " ('scenes', 1),\n",
              " ('fill', 1),\n",
              " ('contrived', 1),\n",
              " ('shoehorned', 1),\n",
              " ('accomplishment', 1),\n",
              " ('typically', 1),\n",
              " ('tend', 1),\n",
              " ('weaker', 1),\n",
              " ('parts', 1),\n",
              " ('well', 1),\n",
              " ('good', 1),\n",
              " ('opinion', 1),\n",
              " ('perfectly', 1),\n",
              " ('sometimes', 1),\n",
              " ('words', 1),\n",
              " ('right', 1),\n",
              " ('little', 1),\n",
              " ('nothing', 1),\n",
              " ('four', 1),\n",
              " ('reading', 1),\n",
              " ('ever', 1),\n",
              " ('call', 1),\n",
              " ('100', 1),\n",
              " ('%', 1),\n",
              " ('critic', 1),\n",
              " ('flat-out', 1),\n",
              " ('usually', 1),\n",
              " ('moment', 1),\n",
              " ('necessarily', 1),\n",
              " ('change', 1),\n",
              " ('loving', 1),\n",
              " ('personally', 1),\n",
              " ('hands-down', 1),\n",
              " ('without', 1),\n",
              " ('trying', 1),\n",
              " ('seem', 1),\n",
              " ('biasly', 1),\n",
              " ('reviewing', 1),\n",
              " ('may', 1),\n",
              " ('later', 1),\n",
              " ('works', 1),\n",
              " ('areas', 1),\n",
              " ('restrained', 1),\n",
              " ('solely', 1),\n",
              " ('bring', 1),\n",
              " ('emotion', 1),\n",
              " ('character', 1),\n",
              " ('plot', 1),\n",
              " ('development', 1),\n",
              " ('multiple', 1),\n",
              " ('consider', 1),\n",
              " ('forever', 1),\n",
              " ('mcu', 1),\n",
              " ('hollands', 1),\n",
              " ('peter', 1),\n",
              " ('parker', 1),\n",
              " ('pleased', 1),\n",
              " ('got', 1),\n",
              " ('strong', 1),\n",
              " ('stand', 1),\n",
              " ('bunched', 1),\n",
              " ('marvel', 1),\n",
              " ('fantastic', 1),\n",
              " ('overall', 1),\n",
              " ('anybody', 1),\n",
              " ('fence', 1),\n",
              " ('recommend', 1),\n",
              " ('waiting', 1),\n",
              " ('come', 1),\n",
              " ('blu-ray', 1),\n",
              " ('streaming', 1),\n",
              " ('go', 1),\n",
              " ('support', 1),\n",
              " ('local', 1),\n",
              " ('enjoyed', 1),\n",
              " ('group', 1),\n",
              " ('base', 1),\n",
              " ('together', 1),\n",
              " ('empty', 1),\n",
              " ('everything', 1),\n",
              " ('get', 1),\n",
              " ('experience', 1),\n",
              " ('makes', 1),\n",
              " ('something', 1),\n",
              " ('better', 1),\n",
              " ('one', 1),\n",
              " ('thing', 1),\n",
              " ('seen', 1),\n",
              " ('familiar', 1),\n",
              " ('maguire', 1),\n",
              " ('probably', 1),\n",
              " ('wo', 1),\n",
              " ('followed', 1),\n",
              " ('point', 1),\n",
              " ('lot', 1),\n",
              " ('magic', 1),\n",
              " ('made', 1),\n",
              " ('fall', 1),\n",
              " ('nostalgia', 1),\n",
              " ('villains', 1),\n",
              " ('killing', 1)]"
            ]
          },
          "metadata": {},
          "execution_count": 26
        }
      ]
    },
    {
      "cell_type": "code",
      "source": [
        "sentences"
      ],
      "metadata": {
        "colab": {
          "base_uri": "https://localhost:8080/"
        },
        "id": "Xm0qDb4xQJsp",
        "outputId": "c3fec019-9899-4e36-d723-4418fdd65207"
      },
      "execution_count": 27,
      "outputs": [
        {
          "output_type": "execute_result",
          "data": {
            "text/plain": [
              "['As someone who grew up seeing the 1st and 2nd Tobey Spider-Man films in theaters as a fairly young kid and knowing even at that age what great films they were let alone great super hero movie, which obviously that landscape was very different back then compared to today, but to be able to see how they constructed this somewhat origin story for Tom Holland from all the way from Civil War to No Way Home and to throw in so many great moments along the way for people like me and others and to make so many amazing moments just work flawlessly especially the fan service moments.',\n",
              " 'They were able to sneak in a surprising amount of explanations and maybe things that happened after certain stories ended or behind the scenes and for it to not fill contrived or shoehorned in there is just an accomplishment in of itself.',\n",
              " \"Movies don't typically make those moments work and they tend to be weaker parts of the film which is why fanservice can be bad as well as good but in my opinion this is how you execute fanservice perfectly.\",\n",
              " \"It's hard for me sometimes to pick the perfect words especially when a movie does so many things right and I have very little to if nothing bad to say about it, which four people reading I definitely don't think I would ever call any movie 100% perfect but I'm not a movie critic so if I just flat-out love a movie it's usually hard for me to think back and pick out moment I didn't necessarily like or that I would change, especially when I'm loving so much of what I'm seeing.\",\n",
              " \"I personally think this is hands-down the best Spider-Man movie and without trying to seem like I'm biasly reviewing this movie too much I may even look back later and say it's the best superhero movie.\",\n",
              " \"It just works in all areas and isn't restrained as solely a superhero movie but they bring so much emotion and character and plot development for multiple people, which again can be very hard to execute, that I just consider this an absolutely amazing movie and I would forever look back on the three MCU Spider-Man movies as a perfect origin story for Tom Hollands Peter Parker and be so very pleased with what we got.\",\n",
              " \"It's just such a strong film it can stand on its own and isn't bunched into a great Marvel movie or great superhero movie or even great Spider-Man movie but just a absolutely fantastic movie overall.\",\n",
              " 'If anybody out there is on the fence about seeing it I would highly highly recommend not waiting for it to come out on Blu-ray or streaming and go support your local theater because this is definitely a movie will be enjoyed more with a group of people and as a fan base together.',\n",
              " \"Even if your theater is empty just the big screen and everything you get with a theater experience makes something that's great even better.\",\n",
              " \"If I had to say one thing I would say that maybe people who haven't seen the other Spider-Man movies or even people who aren't familiar with the Tobey Maguire movies probably won't like this movie as much as the people who have followed all three Spider-Man's stories up to this point because a lot of the magic that made me fall in love with this movie is definitely and the Nostalgia and being able to see not only the Spider-Man's but these villains back on the big screen killing it like they do\"]"
            ]
          },
          "metadata": {},
          "execution_count": 27
        }
      ]
    },
    {
      "cell_type": "code",
      "source": [
        "sentence_freq_table = {}"
      ],
      "metadata": {
        "id": "D0De_TGqQbN2"
      },
      "execution_count": 31,
      "outputs": []
    },
    {
      "cell_type": "code",
      "source": [
        "for i in sentences:\n",
        "  for word, freq in frequency_table.items():\n",
        "    if word in i.lower():\n",
        "      if i in sentence_freq_table:\n",
        "        sentence_freq_table[str(i)] += freq\n",
        "      else:\n",
        "        sentence_freq_table[str(i)] = freq"
      ],
      "metadata": {
        "id": "TYq0p3YzQi5I"
      },
      "execution_count": 32,
      "outputs": []
    },
    {
      "cell_type": "code",
      "source": [
        "sentence_freq_table"
      ],
      "metadata": {
        "colab": {
          "base_uri": "https://localhost:8080/"
        },
        "id": "PM52l0B8Ql3e",
        "outputId": "a72428d2-409f-405d-d3e3-eedb6e7ab7fa"
      },
      "execution_count": 33,
      "outputs": [
        {
          "output_type": "execute_result",
          "data": {
            "text/plain": [
              "{'As someone who grew up seeing the 1st and 2nd Tobey Spider-Man films in theaters as a fairly young kid and knowing even at that age what great films they were let alone great super hero movie, which obviously that landscape was very different back then compared to today, but to be able to see how they constructed this somewhat origin story for Tom Holland from all the way from Civil War to No Way Home and to throw in so many great moments along the way for people like me and others and to make so many amazing moments just work flawlessly especially the fan service moments.': 146,\n",
              " \"Even if your theater is empty just the big screen and everything you get with a theater experience makes something that's great even better.\": 47,\n",
              " \"I personally think this is hands-down the best Spider-Man movie and without trying to seem like I'm biasly reviewing this movie too much I may even look back later and say it's the best superhero movie.\": 91,\n",
              " \"If I had to say one thing I would say that maybe people who haven't seen the other Spider-Man movies or even people who aren't familiar with the Tobey Maguire movies probably won't like this movie as much as the people who have followed all three Spider-Man's stories up to this point because a lot of the magic that made me fall in love with this movie is definitely and the Nostalgia and being able to see not only the Spider-Man's but these villains back on the big screen killing it like they do\": 118,\n",
              " 'If anybody out there is on the fence about seeing it I would highly highly recommend not waiting for it to come out on Blu-ray or streaming and go support your local theater because this is definitely a movie will be enjoyed more with a group of people and as a fan base together.': 69,\n",
              " \"It just works in all areas and isn't restrained as solely a superhero movie but they bring so much emotion and character and plot development for multiple people, which again can be very hard to execute, that I just consider this an absolutely amazing movie and I would forever look back on the three MCU Spider-Man movies as a perfect origin story for Tom Hollands Peter Parker and be so very pleased with what we got.\": 124,\n",
              " \"It's hard for me sometimes to pick the perfect words especially when a movie does so many things right and I have very little to if nothing bad to say about it, which four people reading I definitely don't think I would ever call any movie 100% perfect but I'm not a movie critic so if I just flat-out love a movie it's usually hard for me to think back and pick out moment I didn't necessarily like or that I would change, especially when I'm loving so much of what I'm seeing.\": 132,\n",
              " \"It's just such a strong film it can stand on its own and isn't bunched into a great Marvel movie or great superhero movie or even great Spider-Man movie but just a absolutely fantastic movie overall.\": 78,\n",
              " \"Movies don't typically make those moments work and they tend to be weaker parts of the film which is why fanservice can be bad as well as good but in my opinion this is how you execute fanservice perfectly.\": 72,\n",
              " 'They were able to sneak in a surprising amount of explanations and maybe things that happened after certain stories ended or behind the scenes and for it to not fill contrived or shoehorned in there is just an accomplishment in of itself.': 33}"
            ]
          },
          "metadata": {},
          "execution_count": 33
        }
      ]
    },
    {
      "cell_type": "code",
      "source": [
        "sorted(sentence_freq_table.items(), key=lambda x: x[1], reverse=True)"
      ],
      "metadata": {
        "colab": {
          "base_uri": "https://localhost:8080/"
        },
        "id": "HSHyq49VQpGu",
        "outputId": "a0d9d5f8-410a-4be0-804f-114ca2df015b"
      },
      "execution_count": 34,
      "outputs": [
        {
          "output_type": "execute_result",
          "data": {
            "text/plain": [
              "[('As someone who grew up seeing the 1st and 2nd Tobey Spider-Man films in theaters as a fairly young kid and knowing even at that age what great films they were let alone great super hero movie, which obviously that landscape was very different back then compared to today, but to be able to see how they constructed this somewhat origin story for Tom Holland from all the way from Civil War to No Way Home and to throw in so many great moments along the way for people like me and others and to make so many amazing moments just work flawlessly especially the fan service moments.',\n",
              "  146),\n",
              " (\"It's hard for me sometimes to pick the perfect words especially when a movie does so many things right and I have very little to if nothing bad to say about it, which four people reading I definitely don't think I would ever call any movie 100% perfect but I'm not a movie critic so if I just flat-out love a movie it's usually hard for me to think back and pick out moment I didn't necessarily like or that I would change, especially when I'm loving so much of what I'm seeing.\",\n",
              "  132),\n",
              " (\"It just works in all areas and isn't restrained as solely a superhero movie but they bring so much emotion and character and plot development for multiple people, which again can be very hard to execute, that I just consider this an absolutely amazing movie and I would forever look back on the three MCU Spider-Man movies as a perfect origin story for Tom Hollands Peter Parker and be so very pleased with what we got.\",\n",
              "  124),\n",
              " (\"If I had to say one thing I would say that maybe people who haven't seen the other Spider-Man movies or even people who aren't familiar with the Tobey Maguire movies probably won't like this movie as much as the people who have followed all three Spider-Man's stories up to this point because a lot of the magic that made me fall in love with this movie is definitely and the Nostalgia and being able to see not only the Spider-Man's but these villains back on the big screen killing it like they do\",\n",
              "  118),\n",
              " (\"I personally think this is hands-down the best Spider-Man movie and without trying to seem like I'm biasly reviewing this movie too much I may even look back later and say it's the best superhero movie.\",\n",
              "  91),\n",
              " (\"It's just such a strong film it can stand on its own and isn't bunched into a great Marvel movie or great superhero movie or even great Spider-Man movie but just a absolutely fantastic movie overall.\",\n",
              "  78),\n",
              " (\"Movies don't typically make those moments work and they tend to be weaker parts of the film which is why fanservice can be bad as well as good but in my opinion this is how you execute fanservice perfectly.\",\n",
              "  72),\n",
              " ('If anybody out there is on the fence about seeing it I would highly highly recommend not waiting for it to come out on Blu-ray or streaming and go support your local theater because this is definitely a movie will be enjoyed more with a group of people and as a fan base together.',\n",
              "  69),\n",
              " (\"Even if your theater is empty just the big screen and everything you get with a theater experience makes something that's great even better.\",\n",
              "  47),\n",
              " ('They were able to sneak in a surprising amount of explanations and maybe things that happened after certain stories ended or behind the scenes and for it to not fill contrived or shoehorned in there is just an accomplishment in of itself.',\n",
              "  33)]"
            ]
          },
          "metadata": {},
          "execution_count": 34
        }
      ]
    },
    {
      "cell_type": "code",
      "source": [
        "146 + 132 + 124 + 118 + 91 + 78 + 72 + 69 + 47 + 33"
      ],
      "metadata": {
        "colab": {
          "base_uri": "https://localhost:8080/"
        },
        "id": "4g3cCHlNQ7u2",
        "outputId": "52e98e16-4285-49a6-d55e-488d024328be"
      },
      "execution_count": 35,
      "outputs": [
        {
          "output_type": "execute_result",
          "data": {
            "text/plain": [
              "910"
            ]
          },
          "metadata": {},
          "execution_count": 35
        }
      ]
    },
    {
      "cell_type": "code",
      "source": [
        "(910 * 80)/100"
      ],
      "metadata": {
        "colab": {
          "base_uri": "https://localhost:8080/"
        },
        "id": "qxHTZIJKQ9LI",
        "outputId": "6f78a589-a7ea-419e-d990-84e9183b4c7f"
      },
      "execution_count": 36,
      "outputs": [
        {
          "output_type": "execute_result",
          "data": {
            "text/plain": [
              "728.0"
            ]
          },
          "metadata": {},
          "execution_count": 36
        }
      ]
    },
    {
      "cell_type": "code",
      "source": [
        "146 + 132 + 33 + 47"
      ],
      "metadata": {
        "colab": {
          "base_uri": "https://localhost:8080/"
        },
        "id": "C-7DNXDnRQet",
        "outputId": "cf7dc0e1-590c-4a32-c93b-42d4fd3fed3f"
      },
      "execution_count": 38,
      "outputs": [
        {
          "output_type": "execute_result",
          "data": {
            "text/plain": [
              "358"
            ]
          },
          "metadata": {},
          "execution_count": 38
        }
      ]
    }
  ]
}